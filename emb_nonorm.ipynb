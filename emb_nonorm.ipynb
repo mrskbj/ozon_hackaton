{
 "cells": [
  {
   "cell_type": "code",
   "execution_count": 17,
   "id": "7fe7ac44",
   "metadata": {},
   "outputs": [
    {
     "name": "stdout",
     "output_type": "stream",
     "text": [
      "Requirement already satisfied: pandas in c:\\users\\mrskb\\ucheba\\hackathon\\.venv_gpu\\lib\\site-packages (2.3.1)\n",
      "Requirement already satisfied: numpy>=1.26.0 in c:\\users\\mrskb\\ucheba\\hackathon\\.venv_gpu\\lib\\site-packages (from pandas) (2.1.2)\n",
      "Requirement already satisfied: python-dateutil>=2.8.2 in c:\\users\\mrskb\\ucheba\\hackathon\\.venv_gpu\\lib\\site-packages (from pandas) (2.9.0.post0)\n",
      "Requirement already satisfied: pytz>=2020.1 in c:\\users\\mrskb\\ucheba\\hackathon\\.venv_gpu\\lib\\site-packages (from pandas) (2025.2)\n",
      "Requirement already satisfied: tzdata>=2022.7 in c:\\users\\mrskb\\ucheba\\hackathon\\.venv_gpu\\lib\\site-packages (from pandas) (2025.2)\n",
      "Requirement already satisfied: six>=1.5 in c:\\users\\mrskb\\ucheba\\hackathon\\.venv_gpu\\lib\\site-packages (from python-dateutil>=2.8.2->pandas) (1.17.0)\n",
      "Requirement already satisfied: numpy in c:\\users\\mrskb\\ucheba\\hackathon\\.venv_gpu\\lib\\site-packages (2.1.2)\n",
      "Requirement already satisfied: sentence-transformers in c:\\users\\mrskb\\ucheba\\hackathon\\.venv_gpu\\lib\\site-packages (5.0.0)\n",
      "Requirement already satisfied: transformers<5.0.0,>=4.41.0 in c:\\users\\mrskb\\ucheba\\hackathon\\.venv_gpu\\lib\\site-packages (from sentence-transformers) (4.53.2)\n",
      "Requirement already satisfied: tqdm in c:\\users\\mrskb\\ucheba\\hackathon\\.venv_gpu\\lib\\site-packages (from sentence-transformers) (4.67.1)\n",
      "Requirement already satisfied: torch>=1.11.0 in c:\\users\\mrskb\\ucheba\\hackathon\\.venv_gpu\\lib\\site-packages (from sentence-transformers) (2.6.0+cu126)\n",
      "Requirement already satisfied: scikit-learn in c:\\users\\mrskb\\ucheba\\hackathon\\.venv_gpu\\lib\\site-packages (from sentence-transformers) (1.7.0)\n",
      "Requirement already satisfied: scipy in c:\\users\\mrskb\\ucheba\\hackathon\\.venv_gpu\\lib\\site-packages (from sentence-transformers) (1.16.0)\n",
      "Requirement already satisfied: huggingface-hub>=0.20.0 in c:\\users\\mrskb\\ucheba\\hackathon\\.venv_gpu\\lib\\site-packages (from sentence-transformers) (0.33.4)\n",
      "Requirement already satisfied: Pillow in c:\\users\\mrskb\\ucheba\\hackathon\\.venv_gpu\\lib\\site-packages (from sentence-transformers) (11.0.0)\n",
      "Requirement already satisfied: typing_extensions>=4.5.0 in c:\\users\\mrskb\\ucheba\\hackathon\\.venv_gpu\\lib\\site-packages (from sentence-transformers) (4.12.2)\n",
      "Requirement already satisfied: filelock in c:\\users\\mrskb\\ucheba\\hackathon\\.venv_gpu\\lib\\site-packages (from transformers<5.0.0,>=4.41.0->sentence-transformers) (3.13.1)\n",
      "Requirement already satisfied: numpy>=1.17 in c:\\users\\mrskb\\ucheba\\hackathon\\.venv_gpu\\lib\\site-packages (from transformers<5.0.0,>=4.41.0->sentence-transformers) (2.1.2)\n",
      "Requirement already satisfied: packaging>=20.0 in c:\\users\\mrskb\\ucheba\\hackathon\\.venv_gpu\\lib\\site-packages (from transformers<5.0.0,>=4.41.0->sentence-transformers) (25.0)\n",
      "Requirement already satisfied: pyyaml>=5.1 in c:\\users\\mrskb\\ucheba\\hackathon\\.venv_gpu\\lib\\site-packages (from transformers<5.0.0,>=4.41.0->sentence-transformers) (6.0.2)\n",
      "Requirement already satisfied: regex!=2019.12.17 in c:\\users\\mrskb\\ucheba\\hackathon\\.venv_gpu\\lib\\site-packages (from transformers<5.0.0,>=4.41.0->sentence-transformers) (2024.11.6)\n",
      "Requirement already satisfied: requests in c:\\users\\mrskb\\ucheba\\hackathon\\.venv_gpu\\lib\\site-packages (from transformers<5.0.0,>=4.41.0->sentence-transformers) (2.32.4)\n",
      "Requirement already satisfied: tokenizers<0.22,>=0.21 in c:\\users\\mrskb\\ucheba\\hackathon\\.venv_gpu\\lib\\site-packages (from transformers<5.0.0,>=4.41.0->sentence-transformers) (0.21.2)\n",
      "Requirement already satisfied: safetensors>=0.4.3 in c:\\users\\mrskb\\ucheba\\hackathon\\.venv_gpu\\lib\\site-packages (from transformers<5.0.0,>=4.41.0->sentence-transformers) (0.5.3)\n",
      "Requirement already satisfied: fsspec>=2023.5.0 in c:\\users\\mrskb\\ucheba\\hackathon\\.venv_gpu\\lib\\site-packages (from huggingface-hub>=0.20.0->sentence-transformers) (2024.6.1)\n",
      "Requirement already satisfied: networkx in c:\\users\\mrskb\\ucheba\\hackathon\\.venv_gpu\\lib\\site-packages (from torch>=1.11.0->sentence-transformers) (3.3)\n",
      "Requirement already satisfied: jinja2 in c:\\users\\mrskb\\ucheba\\hackathon\\.venv_gpu\\lib\\site-packages (from torch>=1.11.0->sentence-transformers) (3.1.4)\n",
      "Requirement already satisfied: setuptools in c:\\users\\mrskb\\ucheba\\hackathon\\.venv_gpu\\lib\\site-packages (from torch>=1.11.0->sentence-transformers) (70.2.0)\n",
      "Requirement already satisfied: sympy==1.13.1 in c:\\users\\mrskb\\ucheba\\hackathon\\.venv_gpu\\lib\\site-packages (from torch>=1.11.0->sentence-transformers) (1.13.1)\n",
      "Requirement already satisfied: mpmath<1.4,>=1.1.0 in c:\\users\\mrskb\\ucheba\\hackathon\\.venv_gpu\\lib\\site-packages (from sympy==1.13.1->torch>=1.11.0->sentence-transformers) (1.3.0)\n",
      "Requirement already satisfied: colorama in c:\\users\\mrskb\\ucheba\\hackathon\\.venv_gpu\\lib\\site-packages (from tqdm->sentence-transformers) (0.4.6)\n",
      "Requirement already satisfied: MarkupSafe>=2.0 in c:\\users\\mrskb\\ucheba\\hackathon\\.venv_gpu\\lib\\site-packages (from jinja2->torch>=1.11.0->sentence-transformers) (2.1.5)\n",
      "Requirement already satisfied: charset_normalizer<4,>=2 in c:\\users\\mrskb\\ucheba\\hackathon\\.venv_gpu\\lib\\site-packages (from requests->transformers<5.0.0,>=4.41.0->sentence-transformers) (3.4.2)\n",
      "Requirement already satisfied: idna<4,>=2.5 in c:\\users\\mrskb\\ucheba\\hackathon\\.venv_gpu\\lib\\site-packages (from requests->transformers<5.0.0,>=4.41.0->sentence-transformers) (3.10)\n",
      "Requirement already satisfied: urllib3<3,>=1.21.1 in c:\\users\\mrskb\\ucheba\\hackathon\\.venv_gpu\\lib\\site-packages (from requests->transformers<5.0.0,>=4.41.0->sentence-transformers) (2.5.0)\n",
      "Requirement already satisfied: certifi>=2017.4.17 in c:\\users\\mrskb\\ucheba\\hackathon\\.venv_gpu\\lib\\site-packages (from requests->transformers<5.0.0,>=4.41.0->sentence-transformers) (2025.7.14)\n",
      "Requirement already satisfied: joblib>=1.2.0 in c:\\users\\mrskb\\ucheba\\hackathon\\.venv_gpu\\lib\\site-packages (from scikit-learn->sentence-transformers) (1.5.1)\n",
      "Requirement already satisfied: threadpoolctl>=3.1.0 in c:\\users\\mrskb\\ucheba\\hackathon\\.venv_gpu\\lib\\site-packages (from scikit-learn->sentence-transformers) (3.6.0)\n",
      "Requirement already satisfied: umap-learn in c:\\users\\mrskb\\ucheba\\hackathon\\.venv_gpu\\lib\\site-packages (0.5.9.post2)\n",
      "Requirement already satisfied: numpy>=1.23 in c:\\users\\mrskb\\ucheba\\hackathon\\.venv_gpu\\lib\\site-packages (from umap-learn) (2.1.2)\n",
      "Requirement already satisfied: scipy>=1.3.1 in c:\\users\\mrskb\\ucheba\\hackathon\\.venv_gpu\\lib\\site-packages (from umap-learn) (1.16.0)\n",
      "Requirement already satisfied: scikit-learn>=1.6 in c:\\users\\mrskb\\ucheba\\hackathon\\.venv_gpu\\lib\\site-packages (from umap-learn) (1.7.0)\n",
      "Requirement already satisfied: numba>=0.51.2 in c:\\users\\mrskb\\ucheba\\hackathon\\.venv_gpu\\lib\\site-packages (from umap-learn) (0.61.2)\n",
      "Requirement already satisfied: pynndescent>=0.5 in c:\\users\\mrskb\\ucheba\\hackathon\\.venv_gpu\\lib\\site-packages (from umap-learn) (0.5.13)\n",
      "Requirement already satisfied: tqdm in c:\\users\\mrskb\\ucheba\\hackathon\\.venv_gpu\\lib\\site-packages (from umap-learn) (4.67.1)\n",
      "Requirement already satisfied: llvmlite<0.45,>=0.44.0dev0 in c:\\users\\mrskb\\ucheba\\hackathon\\.venv_gpu\\lib\\site-packages (from numba>=0.51.2->umap-learn) (0.44.0)\n",
      "Requirement already satisfied: joblib>=0.11 in c:\\users\\mrskb\\ucheba\\hackathon\\.venv_gpu\\lib\\site-packages (from pynndescent>=0.5->umap-learn) (1.5.1)\n",
      "Requirement already satisfied: threadpoolctl>=3.1.0 in c:\\users\\mrskb\\ucheba\\hackathon\\.venv_gpu\\lib\\site-packages (from scikit-learn>=1.6->umap-learn) (3.6.0)\n",
      "Requirement already satisfied: colorama in c:\\users\\mrskb\\ucheba\\hackathon\\.venv_gpu\\lib\\site-packages (from tqdm->umap-learn) (0.4.6)\n"
     ]
    }
   ],
   "source": [
    "!pip3 install pandas\n",
    "!pip3 install numpy\n",
    "!pip3 install -U sentence-transformers\n",
    "!pip3 install umap-learn"
   ]
  },
  {
   "cell_type": "code",
   "execution_count": 18,
   "id": "7c34b219",
   "metadata": {},
   "outputs": [
    {
     "name": "stdout",
     "output_type": "stream",
     "text": [
      "Используется: cuda\n"
     ]
    }
   ],
   "source": [
    "# Настройка устройства\n",
    "import torch\n",
    "device = torch.device('cuda' if torch.cuda.is_available() else 'cpu')\n",
    "print(f\"Используется: {device}\")"
   ]
  },
  {
   "cell_type": "code",
   "execution_count": 19,
   "id": "7978755f-800b-4022-aed6-20037656a982",
   "metadata": {},
   "outputs": [],
   "source": [
    "import os\n",
    "import numpy as np\n",
    "import pandas as pd\n",
    "from sentence_transformers import SentenceTransformer\n",
    "from tqdm.auto import tqdm\n",
    "from sklearn.metrics.pairwise import cosine_similarity\n",
    "import matplotlib.pyplot as plt\n",
    "\n",
    "#заранее забиваю настройки\n",
    "model_name = 'paraphrase-multilingual-mpnet-base-v2'\n",
    "batch_size = 512  \n",
    "output_dir = 'embeddings_batches'  # Папка создастся там же, где ноутбук\n",
    "os.makedirs(output_dir, exist_ok=True)\n",
    "\n",
    "#загружаю модель\n",
    "model = SentenceTransformer(model_name, device=device)"
   ]
  },
  {
   "cell_type": "code",
   "execution_count": null,
   "id": "ecc5383c-d992-40af-a91f-dbf8127b1e1a",
   "metadata": {},
   "outputs": [
    {
     "name": "stdout",
     "output_type": "stream",
     "text": [
      "name                     0\n",
      "type                     0\n",
      "category_l2              0\n",
      "category_l4              0\n",
      "is_markup                0\n",
      "target                   0\n",
      "stratify_column          0\n",
      "name_processed           0\n",
      "type_processed           0\n",
      "category_l2_processed    0\n",
      "category_l4_processed    0\n",
      "dtype: int64\n"
     ]
    }
   ],
   "source": [
    "# считываем данные\n",
    "df = pd.read_csv('clean_train_final.csv')\n",
    "\n",
    "#смотрим количество строк с пропущенными данными\n",
    "print(df.isnull().sum())"
   ]
  },
  {
   "cell_type": "code",
   "execution_count": 21,
   "id": "b7f98780-c0da-461d-ac74-ef4151ea9f1b",
   "metadata": {},
   "outputs": [
    {
     "name": "stderr",
     "output_type": "stream",
     "text": [
      "Обработка батчей: 100%|██████████| 1398/1398 [05:41<00:00,  4.09it/s]"
     ]
    },
    {
     "name": "stdout",
     "output_type": "stream",
     "text": [
      "✅ Эмбеддинги сохранены в:\n",
      "- Name: c:\\Users\\mrskb\\Ucheba\\hackathon\\embeddings_batches\\name_embeddings\n",
      "- Type: c:\\Users\\mrskb\\Ucheba\\hackathon\\embeddings_batches\\type_embeddings\n"
     ]
    },
    {
     "name": "stderr",
     "output_type": "stream",
     "text": [
      "\n"
     ]
    }
   ],
   "source": [
    "#функция для обработки батчей \n",
    "def process_dataset(df, text_column='name_processed', type_column='type_processed'):\n",
    "    # Создаем подпапки для разных типов эмбеддингов\n",
    "    name_output_dir = os.path.join(output_dir, 'name_embeddings')\n",
    "    type_output_dir = os.path.join(output_dir, 'type_embeddings')\n",
    "    os.makedirs(name_output_dir, exist_ok=True)\n",
    "    os.makedirs(type_output_dir, exist_ok=True)\n",
    "\n",
    "    for i in tqdm(range(0, len(df), batch_size), desc='Обработка батчей'):\n",
    "        batch = df.iloc[i:i+batch_size]\n",
    "        \n",
    "        # Эмбеддинги для name\n",
    "        name_texts = batch[text_column].tolist()\n",
    "        name_embeddings = model.encode(name_texts, normalize_embeddings=False, show_progress_bar=False)\n",
    "        np.save(f'{name_output_dir}/name_embeddings_batch_{i//batch_size}.npy', name_embeddings)\n",
    "        \n",
    "        # Эмбеддинги для type\n",
    "        type_texts = batch[type_column].tolist()\n",
    "        type_embeddings = model.encode(type_texts, normalize_embeddings=False, show_progress_bar=False)\n",
    "        np.save(f'{type_output_dir}/type_embeddings_batch_{i//batch_size}.npy', type_embeddings)\n",
    "\n",
    "process_dataset(df)\n",
    "print(f\"✅ Эмбеддинги сохранены в:\")\n",
    "print(f\"- Name: {os.path.abspath(os.path.join(output_dir, 'name_embeddings'))}\")\n",
    "print(f\"- Type: {os.path.abspath(os.path.join(output_dir, 'type_embeddings'))}\")"
   ]
  },
  {
   "cell_type": "code",
   "execution_count": 22,
   "id": "bd715f41-6cbe-42bb-bd65-1c698b8015af",
   "metadata": {},
   "outputs": [],
   "source": [
    "# Объединяем эмбеддинги из батчей в один файл\n",
    "\n",
    "def merge_embeddings(output_dir, prefix='embeddings_batch_'):\n",
    "    \n",
    "    # Проверяем существование папки\n",
    "    if not os.path.exists(output_dir):\n",
    "        raise FileNotFoundError(f\"Папка {output_dir} не существует\")\n",
    "\n",
    "    # Получаем и фильтруем файлы\n",
    "    all_files = [f for f in os.listdir(output_dir) if f.startswith(prefix)]\n",
    "    \n",
    "    # Сортировка\n",
    "    def sort_key(x):\n",
    "        try:\n",
    "            # Пробуем извлечь число из имени файла\n",
    "            return int(''.join(filter(str.isdigit, x)))\n",
    "        except:\n",
    "            return 0\n",
    "            \n",
    "    all_files = sorted(all_files, key=sort_key)\n",
    "    \n",
    "    if not all_files:\n",
    "        raise ValueError(f\"Нет файлов с префиксом {prefix} в {output_dir}\")\n",
    "\n",
    "    # Загрузка и объединение\n",
    "    final_embeddings = []\n",
    "    for file in tqdm(all_files, desc=f'Объединение {prefix}'):\n",
    "        batch = np.load(os.path.join(output_dir, file))\n",
    "        final_embeddings.append(batch)\n",
    "    \n",
    "    final_embeddings = np.concatenate(final_embeddings)\n",
    "    \n",
    "    # Сохранение\n",
    "    output_path = f'final_{prefix.split(\"_\")[0]}.npy'  # final_name.npy или final_type.npy\n",
    "    np.save(output_path, final_embeddings)\n",
    "    print(f\"✅ Файл '{output_path}' сохранён: {os.path.abspath(output_path)}\")\n",
    "    return final_embeddings"
   ]
  },
  {
   "cell_type": "code",
   "execution_count": 23,
   "id": "a43ce06c",
   "metadata": {},
   "outputs": [
    {
     "name": "stderr",
     "output_type": "stream",
     "text": [
      "Объединение name_embeddings_batch_: 100%|██████████| 1398/1398 [00:05<00:00, 269.50it/s]\n"
     ]
    },
    {
     "name": "stdout",
     "output_type": "stream",
     "text": [
      "✅ Файл 'final_name.npy' сохранён: c:\\Users\\mrskb\\Ucheba\\hackathon\\final_name.npy\n"
     ]
    },
    {
     "name": "stderr",
     "output_type": "stream",
     "text": [
      "Объединение type_embeddings_batch_: 100%|██████████| 1398/1398 [00:05<00:00, 268.79it/s]\n"
     ]
    },
    {
     "name": "stdout",
     "output_type": "stream",
     "text": [
      "✅ Файл 'final_type.npy' сохранён: c:\\Users\\mrskb\\Ucheba\\hackathon\\final_type.npy\n"
     ]
    }
   ],
   "source": [
    "# Для эмбеддингов name\n",
    "name_embeddings = merge_embeddings(\n",
    "    output_dir=r'C:\\Users\\mrskb\\Ucheba\\hackathon\\embeddings_batches\\name_embeddings',\n",
    "    prefix='name_embeddings_batch_'  # Точное совпадение с началом имен файлов\n",
    ")\n",
    "\n",
    "# Для эмбеддингов type\n",
    "type_embeddings = merge_embeddings(\n",
    "    output_dir=r'C:\\Users\\mrskb\\Ucheba\\hackathon\\embeddings_batches\\type_embeddings',\n",
    "    prefix='type_embeddings_batch_'\n",
    ")"
   ]
  }
 ],
 "metadata": {
  "kernelspec": {
   "display_name": ".venv_gpu",
   "language": "python",
   "name": "python3"
  },
  "language_info": {
   "codemirror_mode": {
    "name": "ipython",
    "version": 3
   },
   "file_extension": ".py",
   "mimetype": "text/x-python",
   "name": "python",
   "nbconvert_exporter": "python",
   "pygments_lexer": "ipython3",
   "version": "3.13.1"
  }
 },
 "nbformat": 4,
 "nbformat_minor": 5
}
